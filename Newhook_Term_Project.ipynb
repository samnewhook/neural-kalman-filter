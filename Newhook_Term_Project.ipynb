{
 "cells": [
  {
   "cell_type": "markdown",
   "metadata": {},
   "source": [
    "# A Neural Engineering Framework Representation of the Kalman Filter\n",
    "## Introduction\n",
    "The Kalman Filter is a method for estimating unknown or hidden system states using an internal model of the physical processes at work. First we need to construct the physical process that we are trying to find estimates for. Modelling kinematic motion can be done through state space equation in discrete time using simple forward integration. For system dynamics in the horizontal axis of the 2D plane let $$x[n+1] = x[n] + \\dot{x} * dt$$ and system dynamics in the vertical axis be $$y[n+1] = y[n] + \\dot{y}[n] * dt$$ where $$\\dot{y}[n+1] = \\dot{y}[n] + \\ddot{y} * dt$$ The State Variables that we want to estimate are going to be $x[n], \\dot{x}[n], y[n], \\dot{y}[n], \\ddot{y}[n]$. In state space this gives us \n",
    "$$\n",
    " \\begin{bmatrix}\n",
    " x[n+1] \\\\\n",
    " \\dot{x}[n+1] \\\\\n",
    " y[n+1] \\\\\n",
    " \\dot{y}[n+1] \\\\\n",
    " \\ddot{y}[n+1]\n",
    " \\end{bmatrix}\n",
    " =\n",
    " \\begin{bmatrix}\n",
    " 1 & dt & 0 & 0 & 0 \\\\\n",
    " 0 & 1 & 0 & 0 & 0 \\\\\n",
    " 0 & 0 & 1 & dt & 0 \\\\\n",
    " 0 & 0 & 0 & 1 & dt \\\\\n",
    " 0 & 0 & 0 & 0 & 1\n",
    " \\end{bmatrix}\n",
    " \\begin{bmatrix}\n",
    " x[n] \\\\\n",
    " \\dot{x}[n] \\\\\n",
    " y[n] \\\\\n",
    " \\dot{y}[n] \\\\\n",
    " \\ddot{y}[n]\n",
    " \\end{bmatrix}\n",
    "$$\n",
    "The noisy measurement values that we are able to observe will be $x[n]$ and $y[n]$. Using the kalman filter we will both be able to achieve some amount of tracking and estimate the true values of the rest of the states."
   ]
  },
  {
   "cell_type": "code",
   "execution_count": 1,
   "metadata": {
    "collapsed": true
   },
   "outputs": [],
   "source": [
    "import nengo\n",
    "import numpy as np\n",
    "import matplotlib.pyplot as plt\n",
    "\n",
    "%matplotlib inline"
   ]
  },
  {
   "cell_type": "code",
   "execution_count": 118,
   "metadata": {},
   "outputs": [],
   "source": [
    "def system_dynamics(x, dt):\n",
    "    A = np.array([\n",
    "        [1, dt, 0, 0, 0],\n",
    "        [0, 1, 0, 0, 0],\n",
    "        [0, 0, 1, dt, 0],\n",
    "        [0, 0, 0, 1, dt],\n",
    "        [0, 0, 0, 0, 1]\n",
    "    ])\n",
    "    next_state = A @ x\n",
    "    return next_state\n",
    "\n",
    "def output_from_state(x):\n",
    "    C = np.array([[1, 0, 0, 0, 0], [0, 0, 1, 0, 0]])\n",
    "    return C @ x\n",
    "\n",
    "def kalman_filter_trad(x_hat, next_y, dt):\n",
    "    return None\n",
    "\n",
    "\n",
    "def kalman_filter(x_hat, next_y, dt):\n",
    "    return kalman_filter_course(x_hat, next_y, dt)\n",
    "    \n",
    "def kalman_filter_course(x_hat, next_y, dt):\n",
    "    variance_y = 1\n",
    "    variance_x = 1\n",
    "    A = np.array([\n",
    "        [1, dt, 0, 0, 0],\n",
    "        [0, 1, 0, 0, 0],\n",
    "        [0, 0, 1, dt, 0],\n",
    "        [0, 0, 0, 1, dt],\n",
    "        [0, 0, 0, 0, 1]\n",
    "    ])\n",
    "    C = np.array([[1, 0, 0, 0, 0], [0, 0, 1, 0, 0]])\n",
    "    P = (1 / variance_x) + (C.T @ C / variance_y)\n",
    "    next_x_hat = np.linalg.pinv(P) @ (((A @ x_hat) / variance_x) + ((C.T @ next_y)) / variance_y)\n",
    "    return next_x_hat"
   ]
  },
  {
   "cell_type": "code",
   "execution_count": 124,
   "metadata": {},
   "outputs": [],
   "source": [
    "t_length = 1\n",
    "num_samples = 100\n",
    "t_space = np.linspace(0, t_length, num=num_samples)\n",
    "dt = t_length / num_samples\n",
    "\n",
    "# Create Random Noise\n",
    "noise_mean = 0\n",
    "noise_std = 1\n",
    "random_noise = np.random.normal(noise_mean, noise_std, (num_samples, 2, 1))\n",
    "\n",
    "# Initialize state and output recorders\n",
    "state_recorder = np.array([[[0], [2], [10], [0], [-9.81]]])\n",
    "output_recorder = np.array([output_from_state(state_recorder[0]) + random_noise[0]]) \n",
    "prediction_recorder = np.array([kalman_filter(np.array([[0, 0, 0, 0, 0]]).T, output_recorder[0], dt)])\n",
    "\n",
    "# Initialize next state and next output\n",
    "next_state = [system_dynamics(state_recorder[0], dt)]\n",
    "next_output = [output_from_state(next_state[0]) + random_noise[1]]\n",
    "next_estimate = [kalman_filter(prediction_recorder[0], next_output[0], dt)]\n",
    "\n",
    "state_recorder = np.append(state_recorder, next_state, axis=0)\n",
    "output_recorder = np.append(output_recorder, next_output, axis=0)\n",
    "prediction_recorder = np.append(prediction_recorder, next_estimate, axis=0)\n",
    "\n",
    "for _, (t, rand_n) in enumerate(zip(t_space[2:], random_noise[2:, :])):\n",
    "    next_state = [system_dynamics(next_state[0], dt)]\n",
    "    next_output = [output_from_state(next_state[0]) + rand_n]\n",
    "    next_estimate = [kalman_filter(next_estimate[0], next_output[0], dt)]\n",
    "    \n",
    "    state_recorder = np.append(state_recorder, next_state, axis=0)\n",
    "    output_recorder = np.append(output_recorder, next_output, axis=0)\n",
    "    prediction_recorder = np.append(prediction_recorder, next_estimate, axis=0)\n"
   ]
  },
  {
   "cell_type": "code",
   "execution_count": 125,
   "metadata": {},
   "outputs": [
    {
     "name": "stdout",
     "output_type": "stream",
     "text": [
      "[[1 0]\n",
      " [0 1]]\n"
     ]
    }
   ],
   "source": [
    "Cdd = np.array([[1, 0, 0, 0, 0], [0, 0, 1, 0, 0]])\n",
    "print(Cdd @ Cdd.T)"
   ]
  },
  {
   "cell_type": "code",
   "execution_count": 126,
   "metadata": {},
   "outputs": [
    {
     "name": "stdout",
     "output_type": "stream",
     "text": [
      "(100, 2, 1) (100, 5, 1) (100, 5)\n"
     ]
    }
   ],
   "source": [
    "print(output_recorder.shape, prediction_recorder.shape, np.squeeze(state_recorder).shape)"
   ]
  },
  {
   "cell_type": "code",
   "execution_count": 127,
   "metadata": {},
   "outputs": [
    {
     "data": {
      "text/plain": [
       "<matplotlib.legend.Legend at 0x2b43be6f5f8>"
      ]
     },
     "execution_count": 127,
     "metadata": {},
     "output_type": "execute_result"
    },
    {
     "data": {
      "image/png": "[encoded data removed]",
      "text/plain": [
       "<matplotlib.figure.Figure at 0x2b43bdc31d0>"
      ]
     },
     "metadata": {},
     "output_type": "display_data"
    }
   ],
   "source": [
    "plt.figure()\n",
    "plt.plot(t_space, np.squeeze(state_recorder[:, [0, 2]]))\n",
    "plt.plot(t_space, np.squeeze(output_recorder))\n",
    "plt.plot(t_space, np.squeeze(prediction_recorder[:, [0, 2]]))\n",
    "plt.legend(['true x', 'true y', 'observed x', 'observed y', 'estimated x', 'estimated y'])"
   ]
  },
  {
   "cell_type": "code",
   "execution_count": null,
   "metadata": {
    "collapsed": true
   },
   "outputs": [],
   "source": []
  },
  {
   "cell_type": "code",
   "execution_count": null,
   "metadata": {
    "collapsed": true
   },
   "outputs": [],
   "source": []
  }
 ],
 "metadata": {
  "kernelspec": {
   "display_name": "Python 3",
   "language": "python",
   "name": "python3"
  },
  "language_info": {
   "codemirror_mode": {
    "name": "ipython",
    "version": 3
   },
   "file_extension": ".py",
   "mimetype": "text/x-python",
   "name": "python",
   "nbconvert_exporter": "python",
   "pygments_lexer": "ipython3",
   "version": "3.6.4"
  }
 },
 "nbformat": 4,
 "nbformat_minor": 2
}
