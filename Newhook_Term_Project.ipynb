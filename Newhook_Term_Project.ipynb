{
 "cells": [
  {
   "cell_type": "markdown",
   "metadata": {},
   "source": [
    "# A Neural Engineering Framework Representation of the Kalman Filter\n",
    "## Introduction\n",
    "The Kalman Filter is a method for estimating unknown or hidden system states using an internal model of the physical processes at work. First we need to construct the physical process that we are trying to find estimates for. Modelling kinematic motion can be done through state space equation in discrete time using simple forward integration. For system dynamics in the horizontal axis of the 2D plane let $$x[n+1] = x[n] + \\dot{x} * dt$$ and system dynamics in the vertical axis be $$y[n+1] = y[n] + \\dot{y}[n] * dt$$ where $$\\dot{y}[n+1] = \\dot{y}[n] + \\ddot{y} * dt$$ The State Variables that we want to estimate are going to be $x[n], \\dot{x}[n], y[n], \\dot{y}[n], \\ddot{y}[n]$. In state space this gives us \n",
    "$$\n",
    " \\begin{bmatrix}\n",
    " x[n+1] \\\\\n",
    " \\dot{x}[n+1] \\\\\n",
    " y[n+1] \\\\\n",
    " \\dot{y}[n+1] \\\\\n",
    " \\ddot{y}[n+1]\n",
    " \\end{bmatrix}\n",
    " =\n",
    " \\begin{bmatrix}\n",
    " 1 & dt & 0 & 0 & 0 \\\\\n",
    " 0 & 1 & 0 & 0 & 0 \\\\\n",
    " 0 & 0 & 1 & dt & 0 \\\\\n",
    " 0 & 0 & 0 & 1 & dt \\\\\n",
    " 0 & 0 & 0 & 0 & 1\n",
    " \\end{bmatrix}\n",
    " \\begin{bmatrix}\n",
    " x[n] \\\\\n",
    " \\dot{x}[n] \\\\\n",
    " y[n] \\\\\n",
    " \\dot{y}[n] \\\\\n",
    " \\ddot{y}[n]\n",
    " \\end{bmatrix}\n",
    "$$\n",
    "The noisy measurement values that we are able to observe will be $x[n]$ and $y[n]$. Using the kalman filter we will both be able to achieve some amount of tracking and estimate the true values of the rest of the states."
   ]
  },
  {
   "cell_type": "code",
   "execution_count": 4,
   "metadata": {
    "collapsed": true
   },
   "outputs": [],
   "source": [
    "import nengo\n",
    "import numpy as np"
   ]
  },
  {
   "cell_type": "code",
   "execution_count": 3,
   "metadata": {
    "collapsed": true
   },
   "outputs": [],
   "source": [
    "def system_dynamics(x):\n",
    "    next_state = \n",
    "    \n",
    "    return dxdt\n",
    "    "
   ]
  },
  {
   "cell_type": "code",
   "execution_count": null,
   "metadata": {
    "collapsed": true
   },
   "outputs": [],
   "source": [
    "t_length = 5\n",
    "t_space = np.linspace(0, t_length, num=50)\n",
    "\n",
    "x_i = 10\n",
    "y_i = 0\n",
    "x_dot_i = 3\n",
    "y_dot_i = 3\n",
    "\n",
    "input_signal = np.array([])"
   ]
  }
 ],
 "metadata": {
  "kernelspec": {
   "display_name": "Python 3",
   "language": "python",
   "name": "python3"
  },
  "language_info": {
   "codemirror_mode": {
    "name": "ipython",
    "version": 3
   },
   "file_extension": ".py",
   "mimetype": "text/x-python",
   "name": "python",
   "nbconvert_exporter": "python",
   "pygments_lexer": "ipython3",
   "version": "3.6.4"
  }
 },
 "nbformat": 4,
 "nbformat_minor": 2
}
