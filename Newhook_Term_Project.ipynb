{
 "cells": [
  {
   "cell_type": "markdown",
   "metadata": {},
   "source": [
    "# A Neural Engineering Framework Representation of the Kalman Filter\n",
    "## Introduction\n",
    "The Kalman Filter is a method for estimating unknown or hidden system states using an internal model of the physical processes at work. First we need to construct the physical process that we are trying to find estimates for. Modelling kinematic motion can be done through state space equation in discrete time using simple forward integration. For system dynamics in the horizontal axis of the 2D plane let $$x[n+1] = x[n] + \\dot{x} * dt$$ and system dynamics in the vertical axis be $$y[n+1] = y[n] + \\dot{y}[n] * dt$$ where $$\\dot{y}[n+1] = \\dot{y}[n] + \\ddot{y} * dt$$ The State Variables that we want to estimate are going to be $x[n], \\dot{x}[n], y[n], \\dot{y}[n], \\ddot{y}[n]$. In state space this gives us \n",
    "$$\n",
    " \\begin{bmatrix}\n",
    " x[n+1] \\\\\n",
    " \\dot{x}[n+1] \\\\\n",
    " y[n+1] \\\\\n",
    " \\dot{y}[n+1] \\\\\n",
    " \\ddot{y}[n+1]\n",
    " \\end{bmatrix}\n",
    " =\n",
    " \\begin{bmatrix}\n",
    " 1 & dt & 0 & 0 & 0 \\\\\n",
    " 0 & 1 & 0 & 0 & 0 \\\\\n",
    " 0 & 0 & 1 & dt & 0 \\\\\n",
    " 0 & 0 & 0 & 1 & dt \\\\\n",
    " 0 & 0 & 0 & 0 & 1\n",
    " \\end{bmatrix}\n",
    " \\begin{bmatrix}\n",
    " x[n] \\\\\n",
    " \\dot{x}[n] \\\\\n",
    " y[n] \\\\\n",
    " \\dot{y}[n] \\\\\n",
    " \\ddot{y}[n]\n",
    " \\end{bmatrix}\n",
    "$$\n",
    "The noisy measurement values that we are able to observe will be $x[n]$ and $y[n]$. Using the kalman filter we will both be able to achieve some degree of tracking and estimate the true values of the rest of the states through added gaussian noise."
   ]
  },
  {
   "cell_type": "code",
   "execution_count": 1,
   "metadata": {},
   "outputs": [],
   "source": [
    "import nengo\n",
    "import numpy as np\n",
    "import matplotlib.pyplot as plt\n",
    "\n",
    "%matplotlib inline"
   ]
  },
  {
   "cell_type": "code",
   "execution_count": 41,
   "metadata": {},
   "outputs": [],
   "source": [
    "def system_dynamics(x, dt):\n",
    "    A = np.array([\n",
    "        [1, dt, 0, 0, 0],\n",
    "        [0, 1, 0, 0, 0],\n",
    "        [0, 0, 1, dt, 0],\n",
    "        [0, 0, 0, 1, dt],\n",
    "        [0, 0, 0, 0, 1]\n",
    "    ])\n",
    "    next_state = A @ x\n",
    "    return next_state\n",
    "\n",
    "def output_from_state(x):\n",
    "    C = np.array([[1, 0, 0, 0, 0], [0, 0, 1, 0, 0]])\n",
    "    return C @ x\n",
    "\n",
    "def kalman_filter_trad(x_hat, next_y, dt):\n",
    "    variance_y = 1\n",
    "    variance_x = (1/10)**2\n",
    "    A = np.array([\n",
    "        [1, dt, 0, 0, 0],\n",
    "        [0, 1, 0, 0, 0],\n",
    "        [0, 0, 1, dt, 0],\n",
    "        [0, 0, 0, 1, dt],\n",
    "        [0, 0, 0, 0, 1]\n",
    "    ])\n",
    "    \n",
    "    C = np.array([[1, 0, 0, 0, 0], [0, 0, 1, 0, 0]])\n",
    "    \n",
    "    K = np.linalg.inv((np.eye(2) + variance_x * C @ (variance_y ** -1 * C))) @ (variance_x * C.T * variance_y ** -1)\n",
    "    \n",
    "    next_x_hat = (np.eye(2) - K @ C) @ A @ x_hat + K @ next_y\n",
    "    return next_x_hat\n",
    "\n",
    "\n",
    "def kalman_filter(x_hat, next_y, dt, P):\n",
    "    return kalman_filter_standard(x_hat, next_y, dt, P)\n",
    "    \n",
    "def kalman_filter_course(x_hat, next_y, dt):\n",
    "    variance_y = 1\n",
    "    variance_x = (1/10)**2\n",
    "    A = np.array([\n",
    "        [1, dt, 0, 0, 0],\n",
    "        [0, 1, 0, 0, 0],\n",
    "        [0, 0, 1, dt, 0],\n",
    "        [0, 0, 0, 1, dt],\n",
    "        [0, 0, 0, 0, 1]\n",
    "    ])\n",
    "    C = np.array([[1, 0, 0, 0, 0], [0, 0, 1, 0, 0]])\n",
    "    P = np.array((np.eye(5) / variance_x) + (np.dot(C.T, C) / variance_y))\n",
    "    next_x_hat = np.linalg.inv(P) @ (((A @ x_hat) / variance_x) + ((C.T @ next_y)) / variance_y)\n",
    "    return next_x_hat\n",
    "\n",
    "def kalman_filter_standard(x_hat, next_y, dt, P):\n",
    "    A = np.array([\n",
    "        [1., dt, 0, 0, 0],\n",
    "        [0, 1., 0, 0, 0],\n",
    "        [0, 0, 1., dt, 0],\n",
    "        [0, 0, 0, 1., dt],\n",
    "        [0, 0, 0, 0, 1.]\n",
    "    ])\n",
    "    \n",
    "    C = np.array([[1, 0, 0, 0, 0], [0, 0, 1, 0, 0]])\n",
    "    \n",
    "    x_super_minus = A @ x_hat\n",
    "    P_super_minus = A @ P @ A.T\n",
    "    \n",
    "    K = P_super_minus @ C.T @ np.linalg.inv(C @ P_super_minus @ C.T + np.eye(2) * 1)\n",
    "    new_P = (np.eye(5) - K @ C) @ P_super_minus\n",
    "    return x_super_minus + K @ (next_y - C @ x_super_minus), new_P"
   ]
  },
  {
   "cell_type": "code",
   "execution_count": 42,
   "metadata": {},
   "outputs": [],
   "source": [
    "t_length = 10\n",
    "num_samples = 50000\n",
    "t_space = np.linspace(0, t_length, num=num_samples)\n",
    "dt = t_length / num_samples\n",
    "\n",
    "# Create Random Noise\n",
    "noise_mean = 0\n",
    "noise_std = 1\n",
    "P_prev = np.eye(5)\n",
    "random_noise = np.random.normal(noise_mean, noise_std, (num_samples, 2, 1))\n",
    "random_state_noise = np.random.normal(noise_mean, 0, (num_samples, 5, 1))\n",
    "\n",
    "# Initialize state and output recorders\n",
    "state_recorder = np.array([[[0], [2], [10], [0], [-9.81]] + random_state_noise[0]])\n",
    "output_recorder = np.array([output_from_state(state_recorder[0]) + random_noise[0]]) \n",
    "prediction_recorder, P_prev = kalman_filter(np.array([[0, 0, 0, 0, 0]]).T, output_recorder[0], dt, P_prev) \n",
    "prediction_recorder = np.array([prediction_recorder])\n",
    "\n",
    "# Initialize next state and next output\n",
    "next_state = [system_dynamics(state_recorder[0], dt) + random_state_noise[1]]\n",
    "next_output = [output_from_state(next_state[0]) + random_noise[1]]\n",
    "next_estimate, P_prev = kalman_filter(prediction_recorder[0], next_output[0], dt, P_prev)\n",
    "next_estimate = [next_estimate]\n",
    "\n",
    "state_recorder = np.append(state_recorder, next_state, axis=0)\n",
    "output_recorder = np.append(output_recorder, next_output, axis=0)\n",
    "prediction_recorder = np.append(prediction_recorder, next_estimate, axis=0)\n",
    "\n",
    "for _, (t, rand_n, rand_state_n) in enumerate(zip(t_space[2:], random_noise[2:, :], random_state_noise[2:, :])):\n",
    "    next_state = [system_dynamics(next_state[0], dt) + rand_state_n]\n",
    "    next_output = [output_from_state(next_state[0]) + rand_n]\n",
    "    next_estimate, P_prev = kalman_filter(next_estimate[0], next_output[0], dt, P_prev)\n",
    "    next_estimate = [next_estimate]\n",
    "    \n",
    "    state_recorder = np.append(state_recorder, next_state, axis=0)\n",
    "    output_recorder = np.append(output_recorder, next_output, axis=0)\n",
    "    prediction_recorder = np.append(prediction_recorder, next_estimate, axis=0)\n"
   ]
  },
  {
   "cell_type": "code",
   "execution_count": 43,
   "metadata": {},
   "outputs": [
    {
     "data": {
      "text/plain": [
       "[<matplotlib.lines.Line2D at 0x2a208e7c278>,\n",
       " <matplotlib.lines.Line2D at 0x2a208e7c3c8>]"
      ]
     },
     "execution_count": 43,
     "metadata": {},
     "output_type": "execute_result"
    },
    {
     "data": {
      "image/png": "[encoded data removed]",
      "text/plain": [
       "<Figure size 432x288 with 1 Axes>"
      ]
     },
     "metadata": {
      "needs_background": "light"
     },
     "output_type": "display_data"
    },
    {
     "data": {
      "image/png": "[encoded data removed]",
      "text/plain": [
       "<Figure size 432x288 with 1 Axes>"
      ]
     },
     "metadata": {
      "needs_background": "light"
     },
     "output_type": "display_data"
    }
   ],
   "source": [
    "plt.figure()\n",
    "plt.plot(t_space, np.squeeze(state_recorder[:, [0, 2]]))\n",
    "plt.plot(t_space, np.squeeze(output_recorder))\n",
    "plt.plot(t_space, np.squeeze(prediction_recorder[:, [0, 2]]))\n",
    "plt.legend(['true x', 'true y', 'observed x', 'observed y', 'estimated x', 'estimated y'])\n",
    "plt.figure()\n",
    "plt.plot(t_space, np.absolute(np.squeeze(state_recorder[:, [0, 2]]) - np.squeeze(prediction_recorder[:, [0, 2]])))"
   ]
  },
  {
   "cell_type": "markdown",
   "metadata": {},
   "source": [
    "## Neural Kalman filter constant velocity 1D\n",
    "To begin the neural kalman filter, we will consider the 1-dimensional case with a constant velocity term. In discrete time the first order differential equation is $$x[n+1] = x[n] + \\dot{x}[n]*dt$$ We take $\\dot{x}$ as input into an integrator. In state space we have \n",
    "$$\n",
    "\\begin{bmatrix}\n",
    "x[n+1] \\\\\n",
    "\\dot{x}[n+1]\n",
    "\\end{bmatrix}= \n",
    "\\begin{bmatrix}\n",
    "1 & dt \\\\\n",
    "0 & 1\n",
    "\\end{bmatrix}\n",
    "\\begin{bmatrix}\n",
    "x[n] \\\\\n",
    "\\dot{x}[n]\n",
    "\\end{bmatrix}\n",
    "$$ In continuous time however, the system is simply $\\dot{x} = const$. As input, our system will encode the position of an object moving at a constant velocity in 1-dimension and we will try to estimate the true value of the states $x$ and $\\dot{x}$."
   ]
  },
  {
   "cell_type": "code",
   "execution_count": 31,
   "metadata": {},
   "outputs": [
    {
     "data": {
      "text/html": [
       "\n",
       "                <div id=\"b26f27e3-8452-44c8-b9b4-da2328018507\" style=\"\n",
       "                    width: 100%;\n",
       "                    border: 1px solid #cfcfcf;\n",
       "                    border-radius: 4px;\n",
       "                    text-align: center;\n",
       "                    position: relative;\">\n",
       "                  <div class=\"pb-text\" style=\"\n",
       "                      position: absolute;\n",
       "                      width: 100%;\">\n",
       "                    0%\n",
       "                  </div>\n",
       "                  <div class=\"pb-fill\" style=\"\n",
       "                      background-color: #bdd2e6;\n",
       "                      width: 0%;\">\n",
       "                    <style type=\"text/css\" scoped=\"scoped\">\n",
       "                        @keyframes pb-fill-anim {\n",
       "                            0% { background-position: 0 0; }\n",
       "                            100% { background-position: 100px 0; }\n",
       "                        }\n",
       "                    </style>\n",
       "                    &nbsp;\n",
       "                  </div>\n",
       "                </div>"
      ],
      "text/plain": [
       "HtmlProgressBar cannot be displayed. Please use the TerminalProgressBar. It can be enabled with `nengo.rc.set('progress', 'progress_bar', 'nengo.utils.progress.TerminalProgressBar')`."
      ]
     },
     "metadata": {},
     "output_type": "display_data"
    },
    {
     "data": {
      "application/javascript": [
       "\n",
       "              (function () {\n",
       "                  var root = document.getElementById('b26f27e3-8452-44c8-b9b4-da2328018507');\n",
       "                  var text = root.getElementsByClassName('pb-text')[0];\n",
       "                  var fill = root.getElementsByClassName('pb-fill')[0];\n",
       "\n",
       "                  text.innerHTML = 'Build finished in 0:00:01.';\n",
       "                  \n",
       "            fill.style.width = '100%';\n",
       "            fill.style.animation = 'pb-fill-anim 2s linear infinite';\n",
       "            fill.style.backgroundSize = '100px 100%';\n",
       "            fill.style.backgroundImage = 'repeating-linear-gradient(' +\n",
       "                '90deg, #bdd2e6, #edf2f8 40%, #bdd2e6 80%, #bdd2e6)';\n",
       "        \n",
       "                  \n",
       "                fill.style.animation = 'none';\n",
       "                fill.style.backgroundImage = 'none';\n",
       "            \n",
       "              })();\n",
       "        "
      ],
      "text/plain": [
       "<IPython.core.display.Javascript object>"
      ]
     },
     "metadata": {},
     "output_type": "display_data"
    },
    {
     "data": {
      "text/html": [
       "\n",
       "                <div id=\"97b72840-e236-4f54-a319-709f242a85f4\" style=\"\n",
       "                    width: 100%;\n",
       "                    border: 1px solid #cfcfcf;\n",
       "                    border-radius: 4px;\n",
       "                    text-align: center;\n",
       "                    position: relative;\">\n",
       "                  <div class=\"pb-text\" style=\"\n",
       "                      position: absolute;\n",
       "                      width: 100%;\">\n",
       "                    0%\n",
       "                  </div>\n",
       "                  <div class=\"pb-fill\" style=\"\n",
       "                      background-color: #bdd2e6;\n",
       "                      width: 0%;\">\n",
       "                    <style type=\"text/css\" scoped=\"scoped\">\n",
       "                        @keyframes pb-fill-anim {\n",
       "                            0% { background-position: 0 0; }\n",
       "                            100% { background-position: 100px 0; }\n",
       "                        }\n",
       "                    </style>\n",
       "                    &nbsp;\n",
       "                  </div>\n",
       "                </div>"
      ],
      "text/plain": [
       "HtmlProgressBar cannot be displayed. Please use the TerminalProgressBar. It can be enabled with `nengo.rc.set('progress', 'progress_bar', 'nengo.utils.progress.TerminalProgressBar')`."
      ]
     },
     "metadata": {},
     "output_type": "display_data"
    },
    {
     "data": {
      "application/javascript": [
       "\n",
       "              (function () {\n",
       "                  var root = document.getElementById('97b72840-e236-4f54-a319-709f242a85f4');\n",
       "                  var text = root.getElementsByClassName('pb-text')[0];\n",
       "                  var fill = root.getElementsByClassName('pb-fill')[0];\n",
       "\n",
       "                  text.innerHTML = 'Simulation finished in 0:00:01.';\n",
       "                  \n",
       "            if (100.0 > 0.) {\n",
       "                fill.style.transition = 'width 0.1s linear';\n",
       "            } else {\n",
       "                fill.style.transition = 'none';\n",
       "            }\n",
       "\n",
       "            fill.style.width = '100.0%';\n",
       "            fill.style.animation = 'none';\n",
       "            fill.style.backgroundImage = 'none'\n",
       "        \n",
       "                  \n",
       "                fill.style.animation = 'none';\n",
       "                fill.style.backgroundImage = 'none';\n",
       "            \n",
       "              })();\n",
       "        "
      ],
      "text/plain": [
       "<IPython.core.display.Javascript object>"
      ]
     },
     "metadata": {},
     "output_type": "display_data"
    },
    {
     "name": "stdout",
     "output_type": "stream",
     "text": [
      "RMSE: 0.19688504820098612\n"
     ]
    },
    {
     "data": {
      "image/png": "[encoded data removed]",
      "text/plain": [
       "<Figure size 432x288 with 1 Axes>"
      ]
     },
     "metadata": {
      "needs_background": "light"
     },
     "output_type": "display_data"
    }
   ],
   "source": [
    "my_func = lambda x:0.3 * x\n",
    "model = nengo.Network(label='Kalman Filter Network')\n",
    "num_neurons = 200\n",
    "# output_representation--> measurement\n",
    "with model:\n",
    "    position = nengo.Node(my_func)\n",
    "    output_representation = nengo.Ensemble(num_neurons, dimensions=1)\n",
    "    nengo.Connection(position, output_representation)\n",
    "    input_position = nengo.Probe(position, synapse=0.01)\n",
    "    probe_1 = nengo.Probe(output_representation, synapse=0.01)\n",
    "    state_representation = nengo.Ensemble(num_neurons, dimensions=2)\n",
    "with nengo.Simulator(model) as sim:\n",
    "    sim.run(1.5)\n",
    "plt.title(\"Step input\")\n",
    "plt.xlabel(\"Time (s)\")\n",
    "plt.plot(sim.trange(), sim.data[input_position])\n",
    "plt.ylim(0, 1.2)\n",
    "plt.title(\"Kalman Filter\")\n",
    "plt.xlabel(\"Time (s)\")\n",
    "plt.plot(sim.trange(), sim.data[probe_1])\n",
    "plt.legend(['Input', 'Output'])\n",
    "rmse = np.sqrt(np.average((sim.data[probe_1]-np.array(output))**2))\n",
    "print(f'RMSE: {rmse}')"
   ]
  },
  {
   "cell_type": "code",
   "execution_count": null,
   "metadata": {
    "collapsed": true
   },
   "outputs": [],
   "source": []
  }
 ],
 "metadata": {
  "kernelspec": {
   "display_name": "Python 3",
   "language": "python",
   "name": "python3"
  },
  "language_info": {
   "codemirror_mode": {
    "name": "ipython",
    "version": 3
   },
   "file_extension": ".py",
   "mimetype": "text/x-python",
   "name": "python",
   "nbconvert_exporter": "python",
   "pygments_lexer": "ipython3",
   "version": "3.7.1"
  }
 },
 "nbformat": 4,
 "nbformat_minor": 2
}
